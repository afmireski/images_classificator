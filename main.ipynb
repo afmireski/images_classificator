{
 "cells": [
  {
   "cell_type": "markdown",
   "metadata": {},
   "source": [
    "# Classificador de Imagens\n",
    "\n",
    "Classificador de imagens em escala de cinza, utilizando os algoritmos LBP e GLCM como extratores de características.\n"
   ]
  },
  {
   "cell_type": "markdown",
   "metadata": {},
   "source": [
    "## Carregar as imagens\n",
    "\n",
    "Carrega as imagens do dataset e as converte para escala de cinza"
   ]
  },
  {
   "cell_type": "code",
   "execution_count": null,
   "metadata": {},
   "outputs": [],
   "source": [
    "import numpy as np\n",
    "import skimage as ski\n",
    "import matplotlib.pyplot as plt\n",
    "from skimage.color import rgb2gray\n",
    "from skimage.feature import local_binary_pattern, graycomatrix, graycoprops\n",
    "\n",
    "images_directory = './images/train'\n",
    "\n",
    "def load_train_images():\n",
    "    gray_images = [rgb2gray(img) for img in ski.io.imread_collection(images_directory + '/*.jpg')]\n",
    "    gray_images_uint8 = [ski.util.img_as_ubyte(img) for img in gray_images]\n",
    "    return gray_images_uint8\n",
    "\n",
    "train_images = load_train_images()\n",
    "\n",
    "# Display the first image\n",
    "test_image = train_images[0]\n",
    "\n",
    "plt.imshow(test_image, cmap=plt.cm.gray)\n",
    "plt.show()\n"
   ]
  },
  {
   "cell_type": "markdown",
   "metadata": {},
   "source": [
    "Mostra o histograma da imagem para teste:"
   ]
  },
  {
   "cell_type": "code",
   "execution_count": null,
   "metadata": {},
   "outputs": [],
   "source": [
    "plt.hist(test_image.ravel())\n",
    "plt.xlabel('Intensidade dos pixels')"
   ]
  },
  {
   "cell_type": "markdown",
   "metadata": {},
   "source": [
    "## Extrair a estrutura das imagens de treino com LBP\n",
    "\n",
    "Cada imagem tem sua própria estrutura. Todavia, imagens de objetos similares, via de regra, terão certa semelhança entre suas estruturas. Imagens de gatos terão certa semelhança entre suas estruturas, o mesmo vale para outros objetos.  \n",
    "\n",
    "Nesse contexto, é possível utilizar o algoritmo **LBP (Local Binary Pattern)** para extrair a estrutura das imagens de treino e agrupá-las em categorias de estruturas."
   ]
  },
  {
   "cell_type": "code",
   "execution_count": null,
   "metadata": {},
   "outputs": [],
   "source": [
    "\n",
    "# settings for LBP\n",
    "radius = 3\n",
    "n_pixels = 8 * radius\n",
    "\n",
    "def compute_lbp_for_single_image(image, radius, n_points, method='uniform'):\n",
    "    return local_binary_pattern(image, n_points, radius, method)\n",
    "\n",
    "def compute_lbp_for_many_images(images, radius, n_points, method='uniform'):\n",
    "    return [compute_lbp_for_single_image(img, radius, n_points, method) for img in images]\n",
    "\n",
    "lbps = compute_lbp_for_many_images(train_images, radius, n_pixels)\n"
   ]
  },
  {
   "cell_type": "markdown",
   "metadata": {},
   "source": [
    "Para visualizar a estrutura computada das imagens pode-se montar um histograma com as informações fornececidas pelo LBP."
   ]
  },
  {
   "cell_type": "code",
   "execution_count": null,
   "metadata": {},
   "outputs": [],
   "source": [
    "def build_histogram_from_lbp(lbp, n_pixels):\n",
    "    (histogram, _) = np.histogram(lbp.ravel(), bins=np.arange(0, n_pixels + 3), range=(0, n_pixels + 2))\n",
    "\n",
    "    # normalize the histogram\n",
    "    histogram = histogram.astype(\"float\")\n",
    "    histogram /= (histogram.sum() + 1e-6)\n",
    "\n",
    "    return histogram\n",
    "\n",
    "sample_histogram = build_histogram_from_lbp(lbps[0], n_pixels)\n",
    "vals = range(len(sample_histogram))\n",
    "plt.figure(figsize=(10, 5))\n",
    "plt.subplot(231)\n",
    "plt.bar(vals, sample_histogram)\n",
    "plt.title(\"Sample\")\n",
    "plt.axis('off')"
   ]
  },
  {
   "cell_type": "markdown",
   "metadata": {},
   "source": [
    "## Extrair características utilizando o GLCM\n",
    "\n",
    "Outro algoritmo muito bom para extrair características de imagens em escala de cinza é o GLCM (Gray-Level Co-Ocurrence Matrix).  \n",
    "Esse algoritmo conta com algumas técnicas de extração de texturas, que podem ser utilizadas para extrair características da imagem. São elas: Contraste, Correlação, Energia e Homogeneidade. \n",
    "\n",
    "Abaixo serão extraídas as características da primeira imagem da fila de treino para teste.\n"
   ]
  },
  {
   "cell_type": "code",
   "execution_count": null,
   "metadata": {},
   "outputs": [],
   "source": [
    "def calculate_glcm_from_single_image(image, distances, angles, levels, symmetric=True, normed=True):\n",
    "    return graycomatrix(image, distances, angles, levels, symmetric=symmetric, normed=normed)\n",
    "\n",
    "def calculate_glcm_from_many_images(images, distances, angles, levels, symmetric=True, normed=True):\n",
    "    \n",
    "\n",
    "    return [calculate_glcm_from_single_image(img, distances, angles, levels, symmetric, normed) for img in images]\n",
    "\n",
    "distances = [1]\n",
    "angles = [0]\n",
    "levels = 256\n",
    "glcm_features = ['contrast', 'homogeneity', 'energy', 'correlation']\n",
    "\n",
    "glcm_list = calculate_glcm_from_many_images(train_images, distances, angles, levels)\n",
    "\n",
    "def extract_glcm_features(glcm, props):\n",
    "    return {prop: graycoprops(glcm, prop)[0, 0] for prop in props}\n",
    "\n",
    "def extract_glcm_features_from_many_images(glcm_list, props):\n",
    "    return [extract_glcm_features(glcm, props) for glcm in glcm_list]\n",
    "\n",
    "features_result = extract_glcm_features_from_many_images(glcm_list, glcm_features)\n",
    "\n",
    "\n",
    "example_features_values = np.array(list(features_result[0].values()))\n",
    "print(example_features_values)\n",
    "\n",
    "plt.bar(glcm_features, example_features_values)\n",
    "plt.title(\"GLCM Features\")\n",
    "plt.xlabel(\"Feature\")\n",
    "plt.ylabel(\"Value\")\n",
    "plt.show()\n",
    "\n"
   ]
  }
 ],
 "metadata": {
  "kernelspec": {
   "display_name": ".venv",
   "language": "python",
   "name": "python3"
  },
  "language_info": {
   "codemirror_mode": {
    "name": "ipython",
    "version": 3
   },
   "file_extension": ".py",
   "mimetype": "text/x-python",
   "name": "python",
   "nbconvert_exporter": "python",
   "pygments_lexer": "ipython3",
   "version": "3.12.6"
  }
 },
 "nbformat": 4,
 "nbformat_minor": 2
}
